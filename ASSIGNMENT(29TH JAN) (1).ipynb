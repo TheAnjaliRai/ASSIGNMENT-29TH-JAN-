{
 "cells": [
  {
   "cell_type": "code",
   "execution_count": 1,
   "id": "46dd51b5",
   "metadata": {},
   "outputs": [],
   "source": [
    "#Q1-GUIDO VAN ROSSUM developed python\n",
    "#q2-object oriented, structured and functional programming\n",
    "#q3-yes, python is case sensitive\n",
    "#q4-.py or ,pyi are the extensions of python file\n",
    "#q5- interpreted\n",
    "#q6-few blocks of codes are - a module, a function body and a class definition\n",
    "#q7-# character is used fir single line comment"
   ]
  },
  {
   "cell_type": "code",
   "execution_count": 5,
   "id": "6d309b01",
   "metadata": {},
   "outputs": [],
   "source": [
    "#q8-"
   ]
  },
  {
   "cell_type": "code",
   "execution_count": 8,
   "id": "dfcf906b",
   "metadata": {},
   "outputs": [
    {
     "name": "stdout",
     "output_type": "stream",
     "text": [
      "3.9.12 (main, Apr  4 2022, 05:22:27) [MSC v.1916 64 bit (AMD64)]\n"
     ]
    }
   ],
   "source": [
    "import sys\n",
    "print(sys.version)"
   ]
  },
  {
   "cell_type": "code",
   "execution_count": null,
   "id": "43c3baba",
   "metadata": {},
   "outputs": [],
   "source": [
    "#q9- lambda\n",
    "#q10- pip stands for \"preferred installer program\" or \"pip install packages\"\n",
    "#q11- few in-built function in python are - print() ,type() ,input() , len() etc\n",
    "#q12-an idebtifier can have a maximum length of 79 characters in python\n",
    "#q13 benefits of using python\n",
    "# simple to use\n",
    "# easy to understand\n",
    "# free and open source\n",
    "# productivity has increased\n",
    "# interpreted language\n",
    "# extensive library\n",
    "# etc\n"
   ]
  },
  {
   "cell_type": "code",
   "execution_count": null,
   "id": "ddabbdac",
   "metadata": {},
   "outputs": [],
   "source": [
    "# q14\n",
    "#python uses the dynamic memory allocation which is managed by the heap data structure.\n",
    "#python memory manages the allocation or deallocation of the heap memory space through API\n"
   ]
  },
  {
   "cell_type": "code",
   "execution_count": null,
   "id": "67cb8774",
   "metadata": {},
   "outputs": [],
   "source": [
    "#q15\n",
    "# 1)install python from python.org\n",
    "# 2)download 64bit version python if your computer is of 64 bit or if your computer is 32 bit download 32bit version\n",
    "# 3)The complete path of python.exe can be added by:\n",
    "# Right-clicking This PC and going to Properties.\n",
    "# Clicking on the Advanced system settings in the menu on the left.\n",
    "# Clicking on the Environment Variables button o​n the bottom right.\n",
    "# In the System variables section, selecting the Path variable and clicking on Edit. The next screen will show all the directories that are currently a part of the PATH variable.\n",
    "# Clicking on New and entering Python’s install directory.\n",
    "# Python can now be used directly from the command prompt without having to write its location. Try executing the command python --version; it will output the version of Python installed on your system."
   ]
  },
  {
   "cell_type": "code",
   "execution_count": null,
   "id": "a1ca513f",
   "metadata": {},
   "outputs": [],
   "source": [
    "#q16\n",
    "# yes, indentation is required in python"
   ]
  }
 ],
 "metadata": {
  "kernelspec": {
   "display_name": "Python 3 (ipykernel)",
   "language": "python",
   "name": "python3"
  },
  "language_info": {
   "codemirror_mode": {
    "name": "ipython",
    "version": 3
   },
   "file_extension": ".py",
   "mimetype": "text/x-python",
   "name": "python",
   "nbconvert_exporter": "python",
   "pygments_lexer": "ipython3",
   "version": "3.9.12"
  }
 },
 "nbformat": 4,
 "nbformat_minor": 5
}
